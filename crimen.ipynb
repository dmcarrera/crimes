{
 "cells": [
  {
   "cell_type": "code",
   "execution_count": 1,
   "metadata": {},
   "outputs": [
    {
     "name": "stdout",
     "output_type": "stream",
     "text": [
      "<class 'pandas.core.frame.DataFrame'>\n",
      "RangeIndex: 185715 entries, 0 to 185714\n",
      "Data columns (total 12 columns):\n",
      " #   Column        Non-Null Count   Dtype         \n",
      "---  ------        --------------   -----         \n",
      " 0   DR_NO         185715 non-null  int64         \n",
      " 1   Date Rptd     185715 non-null  datetime64[ns]\n",
      " 2   DATE OCC      185715 non-null  datetime64[ns]\n",
      " 3   TIME OCC      185715 non-null  object        \n",
      " 4   AREA NAME     185715 non-null  object        \n",
      " 5   Crm Cd Desc   185715 non-null  object        \n",
      " 6   Vict Age      185715 non-null  int64         \n",
      " 7   Vict Sex      185704 non-null  object        \n",
      " 8   Vict Descent  185705 non-null  object        \n",
      " 9   Weapon Desc   73502 non-null   object        \n",
      " 10  Status Desc   185715 non-null  object        \n",
      " 11  LOCATION      185715 non-null  object        \n",
      "dtypes: datetime64[ns](2), int64(2), object(8)\n",
      "memory usage: 17.0+ MB\n"
     ]
    }
   ],
   "source": [
    "import pandas as pd\n",
    "import numpy as np\n",
    "import matplotlib.pyplot as plt\n",
    "import seaborn as sns\n",
    "\n",
    "\n",
    "link = 'crimes.csv'\n",
    "#se importa el archivo modificando el tipo de datos\n",
    "crimes= pd.read_csv(link, parse_dates=['Date Rptd', 'DATE OCC'], dtype={'TIME OCC':'str'})\n",
    "\n",
    "\n",
    "\n",
    "\n",
    "crimes.info()"
   ]
  },
  {
   "cell_type": "markdown",
   "metadata": {},
   "source": [
    "Extrayendo las horas\n",
    "La hora en que se cometió cada crimen se encuentra en los dos primeros caracteres de la columna \"TIME OCC\".\n",
    "Puedes extraer esto usando el atributo .str, indexando los dos primeros caracteres, es decir, .str[:2].\n",
    "¡No olvides usar .astype(int) para cambiar el tipo de dato!\n",
    "Puedes almacenar los resultados en una nueva columna, como \"HOUR OCC\"."
   ]
  },
  {
   "cell_type": "code",
   "execution_count": 2,
   "metadata": {},
   "outputs": [
    {
     "data": {
      "image/png": "[encoded data removed]",
      "text/plain": [
       "<Figure size 640x480 with 1 Axes>"
      ]
     },
     "metadata": {},
     "output_type": "display_data"
    }
   ],
   "source": [
    "#Agregando una columna intera\n",
    "\n",
    "crimes['HOUR CC'] = crimes['TIME OCC'].str[:2].astype(int)\n",
    "\n",
    "sns.countplot(crimes, x='HOUR CC')\n",
    "\n",
    "plt.show()"
   ]
  },
  {
   "cell_type": "code",
   "execution_count": 3,
   "metadata": {},
   "outputs": [],
   "source": [
    "peak_crime_hour= 12\n",
    "\n"
   ]
  },
  {
   "cell_type": "code",
   "execution_count": 4,
   "metadata": {},
   "outputs": [
    {
     "data": {
      "text/plain": [
       "'Central'"
      ]
     },
     "execution_count": 4,
     "metadata": {},
     "output_type": "execute_result"
    }
   ],
   "source": [
    "night_time = crimes[crimes['HOUR CC'].isin([22, 23,0,1,2,3])]\n",
    "\n",
    "peak_night_crime_location=night_time.groupby('AREA NAME', as_index=False)['HOUR CC'].count().sort_values('HOUR CC', ascending=False).iloc[0]['AREA NAME']\n",
    "\n",
    "peak_night_crime_location"
   ]
  },
  {
   "cell_type": "code",
   "execution_count": 5,
   "metadata": {},
   "outputs": [
    {
     "name": "stdout",
     "output_type": "stream",
     "text": [
      "Age Bracket\n",
      "26-34    47470\n",
      "35-44    42157\n",
      "45-54    28353\n",
      "18-25    28291\n",
      "55-64    20169\n",
      "65+      14747\n",
      "0-17      4528\n",
      "Name: count, dtype: int64\n"
     ]
    }
   ],
   "source": [
    "#Identificar el número de crímenes cometidos contra víctimas por grupo de edad (0-17, 18-25, 26-34, 35-44, 45-54, 55-64, 65+). \n",
    "#Guardar como una serie de pandas llamada victim_ages. Crear contenedores y etiquetas para los rangos de edad de las víctimas.\n",
    "\n",
    "age_labels = [ \"0-17\", \"18-25\", \"26-34\", \"35-44\", \"45-54\", \"55-64\", \"65+\"]\n",
    "\n",
    "age_bins =  [0,17,25,34,44,54,64, np.inf]\n",
    "\n",
    "crimes['Age Bracket'] = pd.cut(crimes['Vict Age'], bins=age_bins,labels=age_labels)\n",
    "\n",
    "victim_ages = crimes['Age Bracket'].value_counts()\n",
    "\n",
    "print(victim_ages)"
   ]
  }
 ],
 "metadata": {
  "kernelspec": {
   "display_name": "base",
   "language": "python",
   "name": "python3"
  },
  "language_info": {
   "codemirror_mode": {
    "name": "ipython",
    "version": 3
   },
   "file_extension": ".py",
   "mimetype": "text/x-python",
   "name": "python",
   "nbconvert_exporter": "python",
   "pygments_lexer": "ipython3",
   "version": "3.11.5"
  }
 },
 "nbformat": 4,
 "nbformat_minor": 2
}
